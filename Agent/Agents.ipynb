{
 "cells": [
  {
   "cell_type": "markdown",
   "id": "5170bf5b",
   "metadata": {},
   "source": [
    "# Agents - Make OpenAI Do Things For you"
   ]
  },
  {
   "cell_type": "markdown",
   "id": "8d9faa06",
   "metadata": {},
   "source": [
    "*[Source](https://langchain.readthedocs.io/en/latest/modules/agents/getting_started.html)*\n",
    "* **Agent** - Agents use an LLM to determine which actions to take and in what order. An action can either be using a tool and observing its output, or returning to the user.\n",
    "\n",
    "Parameters when creating an agent:\n",
    "* **Tool:** A function that performs a specific duty. This can be things like: Google Search, Database lookup, Python REPL, other chains. The interface for a tool is currently a function that is expected to have a string as an input, with a string as an output.\n",
    "* **LLM:** The language model powering the agent.\n",
    "* **Agent:** The agent to use. This should be a string that references a support agent class. Because this notebook focuses on the simplest, highest level API, this only covers using the standard supported agents. If you want to implement a custom agent, see the documentation for custom agents."
   ]
  },
  {
   "cell_type": "code",
   "execution_count": 27,
   "id": "358a8ce1",
   "metadata": {},
   "outputs": [
    {
     "name": "stdout",
     "output_type": "stream",
     "text": [
      "Requirement already satisfied: google-search-results in /Users/abhisheknegi/opt/anaconda3/envs/rapid-celery-bot1/lib/python3.8/site-packages (2.4.2)\n",
      "Requirement already satisfied: requests in /Users/abhisheknegi/opt/anaconda3/envs/rapid-celery-bot1/lib/python3.8/site-packages (from google-search-results) (2.28.2)\n",
      "Requirement already satisfied: urllib3<1.27,>=1.21.1 in /Users/abhisheknegi/opt/anaconda3/envs/rapid-celery-bot1/lib/python3.8/site-packages (from requests->google-search-results) (1.26.15)\n",
      "Requirement already satisfied: charset-normalizer<4,>=2 in /Users/abhisheknegi/opt/anaconda3/envs/rapid-celery-bot1/lib/python3.8/site-packages (from requests->google-search-results) (3.1.0)\n",
      "Requirement already satisfied: idna<4,>=2.5 in /Users/abhisheknegi/opt/anaconda3/envs/rapid-celery-bot1/lib/python3.8/site-packages (from requests->google-search-results) (3.4)\n",
      "Requirement already satisfied: certifi>=2017.4.17 in /Users/abhisheknegi/opt/anaconda3/envs/rapid-celery-bot1/lib/python3.8/site-packages (from requests->google-search-results) (2022.12.7)\n",
      "Collecting wolframalpha\n",
      "  Downloading wolframalpha-5.0.0-py3-none-any.whl (7.5 kB)\n",
      "Requirement already satisfied: xmltodict in /Users/abhisheknegi/opt/anaconda3/envs/rapid-celery-bot1/lib/python3.8/site-packages (from wolframalpha) (0.13.0)\n",
      "Collecting jaraco.context\n",
      "  Downloading jaraco.context-4.3.0-py3-none-any.whl (5.3 kB)\n",
      "Collecting more-itertools\n",
      "  Using cached more_itertools-9.1.0-py3-none-any.whl (54 kB)\n",
      "Installing collected packages: more-itertools, jaraco.context, wolframalpha\n",
      "Successfully installed jaraco.context-4.3.0 more-itertools-9.1.0 wolframalpha-5.0.0\n"
     ]
    }
   ],
   "source": [
    "!pip install google-search-results\n",
    "!pip install wolframalpha"
   ]
  },
  {
   "cell_type": "code",
   "execution_count": 19,
   "id": "7f247903",
   "metadata": {},
   "outputs": [
    {
     "data": {
      "text/plain": [
       "True"
      ]
     },
     "execution_count": 19,
     "metadata": {},
     "output_type": "execute_result"
    }
   ],
   "source": [
    "from langchain.agents import load_tools\n",
    "from langchain.agents import initialize_agent\n",
    "from langchain.llms import OpenAI\n",
    "import os\n",
    "from dotenv import load_dotenv\n",
    "\n",
    "load_dotenv()"
   ]
  },
  {
   "cell_type": "code",
   "execution_count": 20,
   "id": "2b99380b",
   "metadata": {},
   "outputs": [],
   "source": [
    "OPENAI_API_KEY = os.getenv('OPENAI_API_KEY')"
   ]
  },
  {
   "cell_type": "markdown",
   "id": "0bd3670a",
   "metadata": {},
   "source": [
    "### List of Tools\n",
    "1. **python_repl -** A Python shell. Use this to execute python commands. Input should be a valid python command. If you expect output it should be printed out.\n",
    "2. **serpapi -** A search engine. Useful for when you need to answer questions about current events. Input should be a search query.\n",
    "3. **wolfram-alpha -** A wolfram alpha search engine. Useful for when you need to answer questions about Math, Science, Technology, Culture, Society and Everyday Life. Input should be a search query.\n",
    "4. **requests -** A portal to the internet. Use this when you need to get specific content from a site. Input should be a specific url, and the output will be all the text on that page.\n",
    "5. **terminal -** Executes commands in a terminal. Input should be valid commands, and the output will be any output from running that command.\n",
    "6. **pal-math -** A language model that is excellent at solving complex word math problems. Input should be a fully worded hard word math problem.\n",
    "7. **pal-colored-objects -** A language model that is wonderful at reasoning about position and the color attributes of objects. Input should be a fully worded hard reasoning problem. Make sure to include all information about the objects AND the final question you want to answer.\n",
    "8. **llm-math -** Useful for when you need to answer questions about math.\n",
    "9. **open-meteo-api -** Useful for when you want to get weather information from the OpenMeteo API. The input should be a question in natural language that this API can answer.\n",
    "10. **news-api -** Use this when you want to get information about the top headlines of current news stories. The input should be a question in natural language that this API can answer.\n",
    "11. **tmdb-api -** Useful for when you want to get information from The Movie Database. The input should be a question in natural language that this API can answer.\n",
    "12. **google-search -** A wrapper around Google Search. Useful for when you need to answer questions about current events. Input should be a search query.\n"
   ]
  },
  {
   "cell_type": "markdown",
   "id": "83032dcf",
   "metadata": {},
   "source": [
    "### 2. SERP API"
   ]
  },
  {
   "cell_type": "code",
   "execution_count": 21,
   "id": "d0f2fd44",
   "metadata": {},
   "outputs": [
    {
     "data": {
      "text/plain": [
       "OpenAI(cache=None, verbose=False, callback_manager=<langchain.callbacks.shared.SharedCallbackManager object at 0x7fa32884a5b0>, client=<class 'openai.api_resources.completion.Completion'>, model_name='text-davinci-003', temperature=0.0, max_tokens=256, top_p=1, frequency_penalty=0, presence_penalty=0, n=1, best_of=1, model_kwargs={}, openai_api_key=None, openai_api_base=None, openai_organization=None, batch_size=20, request_timeout=None, logit_bias={}, max_retries=6, streaming=False)"
      ]
     },
     "execution_count": 21,
     "metadata": {},
     "output_type": "execute_result"
    }
   ],
   "source": [
    "llm = OpenAI(temperature=0)\n",
    "llm"
   ]
  },
  {
   "cell_type": "code",
   "execution_count": 22,
   "id": "f26a0dd5",
   "metadata": {},
   "outputs": [
    {
     "data": {
      "text/plain": [
       "['serpapi']"
      ]
     },
     "execution_count": 22,
     "metadata": {},
     "output_type": "execute_result"
    }
   ],
   "source": [
    "tool_names = [\"serpapi\"]\n",
    "tool_names"
   ]
  },
  {
   "cell_type": "code",
   "execution_count": 23,
   "id": "a2c5e10a",
   "metadata": {},
   "outputs": [
    {
     "data": {
      "text/plain": [
       "[Tool(name='Search', description='A search engine. Useful for when you need to answer questions about current events. Input should be a search query.', return_direct=False, verbose=False, callback_manager=<langchain.callbacks.shared.SharedCallbackManager object at 0x7fa32884a5b0>, func=<bound method SerpAPIWrapper.run of SerpAPIWrapper(search_engine=<class 'serpapi.google_search.GoogleSearch'>, params={'engine': 'google', 'google_domain': 'google.com', 'gl': 'us', 'hl': 'en'}, serpapi_api_key='58bd0b3437932d9fd5fc3926a9e41bf89e8b88624f78d893fbb6ee64376157d7', aiosession=None)>, coroutine=<bound method SerpAPIWrapper.arun of SerpAPIWrapper(search_engine=<class 'serpapi.google_search.GoogleSearch'>, params={'engine': 'google', 'google_domain': 'google.com', 'gl': 'us', 'hl': 'en'}, serpapi_api_key='58bd0b3437932d9fd5fc3926a9e41bf89e8b88624f78d893fbb6ee64376157d7', aiosession=None)>)]"
      ]
     },
     "execution_count": 23,
     "metadata": {},
     "output_type": "execute_result"
    }
   ],
   "source": [
    "tools = load_tools(tool_names)\n",
    "tools"
   ]
  },
  {
   "cell_type": "code",
   "execution_count": 24,
   "id": "e8a35518",
   "metadata": {},
   "outputs": [
    {
     "data": {
      "text/plain": [
       "AgentExecutor(memory=None, callback_manager=<langchain.callbacks.shared.SharedCallbackManager object at 0x7fa32884a5b0>, verbose=True, agent=ZeroShotAgent(llm_chain=LLMChain(memory=None, callback_manager=<langchain.callbacks.shared.SharedCallbackManager object at 0x7fa32884a5b0>, verbose=False, prompt=PromptTemplate(input_variables=['input', 'agent_scratchpad'], output_parser=None, partial_variables={}, template='Answer the following questions as best you can. You have access to the following tools:\\n\\nSearch: A search engine. Useful for when you need to answer questions about current events. Input should be a search query.\\n\\nUse the following format:\\n\\nQuestion: the input question you must answer\\nThought: you should always think about what to do\\nAction: the action to take, should be one of [Search]\\nAction Input: the input to the action\\nObservation: the result of the action\\n... (this Thought/Action/Action Input/Observation can repeat N times)\\nThought: I now know the final answer\\nFinal Answer: the final answer to the original input question\\n\\nBegin!\\n\\nQuestion: {input}\\nThought:{agent_scratchpad}', template_format='f-string', validate_template=True), llm=OpenAI(cache=None, verbose=False, callback_manager=<langchain.callbacks.shared.SharedCallbackManager object at 0x7fa32884a5b0>, client=<class 'openai.api_resources.completion.Completion'>, model_name='text-davinci-003', temperature=0.0, max_tokens=256, top_p=1, frequency_penalty=0, presence_penalty=0, n=1, best_of=1, model_kwargs={}, openai_api_key=None, openai_api_base=None, openai_organization=None, batch_size=20, request_timeout=None, logit_bias={}, max_retries=6, streaming=False), output_key='text'), output_parser=MRKLOutputParser(), allowed_tools=['Search']), tools=[Tool(name='Search', description='A search engine. Useful for when you need to answer questions about current events. Input should be a search query.', return_direct=False, verbose=False, callback_manager=<langchain.callbacks.shared.SharedCallbackManager object at 0x7fa32884a5b0>, func=<bound method SerpAPIWrapper.run of SerpAPIWrapper(search_engine=<class 'serpapi.google_search.GoogleSearch'>, params={'engine': 'google', 'google_domain': 'google.com', 'gl': 'us', 'hl': 'en'}, serpapi_api_key='58bd0b3437932d9fd5fc3926a9e41bf89e8b88624f78d893fbb6ee64376157d7', aiosession=None)>, coroutine=<bound method SerpAPIWrapper.arun of SerpAPIWrapper(search_engine=<class 'serpapi.google_search.GoogleSearch'>, params={'engine': 'google', 'google_domain': 'google.com', 'gl': 'us', 'hl': 'en'}, serpapi_api_key='58bd0b3437932d9fd5fc3926a9e41bf89e8b88624f78d893fbb6ee64376157d7', aiosession=None)>)], return_intermediate_steps=False, max_iterations=15, max_execution_time=None, early_stopping_method='force')"
      ]
     },
     "execution_count": 24,
     "metadata": {},
     "output_type": "execute_result"
    }
   ],
   "source": [
    "agent = initialize_agent(tools, llm, agent=\"zero-shot-react-description\", verbose=True)\n",
    "agent"
   ]
  },
  {
   "cell_type": "code",
   "execution_count": 25,
   "id": "829a2d67",
   "metadata": {},
   "outputs": [
    {
     "name": "stdout",
     "output_type": "stream",
     "text": [
      "\n",
      "\n",
      "\u001b[1m> Entering new AgentExecutor chain...\u001b[0m\n",
      "\u001b[32;1m\u001b[1;3m I should research this online.\n",
      "Action: Search\n",
      "Action Input: \"LangChain\"\u001b[0m\n",
      "Observation: \u001b[36;1m\u001b[1;3mLangChain is a framework for developing applications powered by language models. We believe that the most powerful and differentiated applications will not only ...\u001b[0m\n",
      "Thought:\u001b[32;1m\u001b[1;3m This looks like the answer I'm looking for.\n",
      "Final Answer: LangChain is a framework for developing applications powered by language models. We believe that the most powerful and differentiated applications will not only leverage the power of language models, but also the power of the community to create and share data.\u001b[0m\n",
      "\n",
      "\u001b[1m> Finished chain.\u001b[0m\n"
     ]
    },
    {
     "data": {
      "text/plain": [
       "'LangChain is a framework for developing applications powered by language models. We believe that the most powerful and differentiated applications will not only leverage the power of language models, but also the power of the community to create and share data.'"
      ]
     },
     "execution_count": 25,
     "metadata": {},
     "output_type": "execute_result"
    }
   ],
   "source": [
    "agent.run(\"What is LangChain?\")"
   ]
  },
  {
   "cell_type": "code",
   "execution_count": 26,
   "id": "b4cc45f6",
   "metadata": {},
   "outputs": [
    {
     "name": "stdout",
     "output_type": "stream",
     "text": [
      "\n",
      "\n",
      "\u001b[1m> Entering new AgentExecutor chain...\u001b[0m\n",
      "\u001b[32;1m\u001b[1;3m I need to find out who the CEO of Pipe is\n",
      "Action: Search\n",
      "Action Input: \"CEO of Pipe\"\u001b[0m\n",
      "Observation: \u001b[36;1m\u001b[1;3mLuke Voiles\u001b[0m\n",
      "Thought:\u001b[32;1m\u001b[1;3m I now know the final answer\n",
      "Final Answer: Luke Voiles is the CEO of Pipe.\u001b[0m\n",
      "\n",
      "\u001b[1m> Finished chain.\u001b[0m\n"
     ]
    },
    {
     "data": {
      "text/plain": [
       "'Luke Voiles is the CEO of Pipe.'"
      ]
     },
     "execution_count": 26,
     "metadata": {},
     "output_type": "execute_result"
    }
   ],
   "source": [
    "# Input should be a search query.\n",
    "agent.run(\"who is the ceo of pipe?\")"
   ]
  }
 ],
 "metadata": {
  "kernelspec": {
   "display_name": "Python 3 (ipykernel)",
   "language": "python",
   "name": "python3"
  },
  "language_info": {
   "codemirror_mode": {
    "name": "ipython",
    "version": 3
   },
   "file_extension": ".py",
   "mimetype": "text/x-python",
   "name": "python",
   "nbconvert_exporter": "python",
   "pygments_lexer": "ipython3",
   "version": "3.8.16"
  }
 },
 "nbformat": 4,
 "nbformat_minor": 5
}
